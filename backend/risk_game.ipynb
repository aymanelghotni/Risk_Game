{
 "cells": [
  {
   "cell_type": "code",
   "execution_count": 236,
   "metadata": {},
   "outputs": [],
   "source": [
    "import random"
   ]
  },
  {
   "cell_type": "code",
   "execution_count": 237,
   "metadata": {},
   "outputs": [],
   "source": [
    "class Territory:\n",
    "    adjacent_territories_indices=[]\n",
    "    adjacent_territories_obj=[]\n",
    "    color=0\n",
    "    heuristic=0\n",
    "    armies=0\n",
    "    tid=0\n",
    "    def __init__(self,tid,adjacentTerritories=[],color=0,heuristic=0,armies=0):\n",
    "        self.adjacent_territories_indices=adjacentTerritories\n",
    "        self.color=color\n",
    "        self.heuristic=heuristic\n",
    "        self.armies=armies\n",
    "        self.tid=tid\n",
    "    def __str__(self):\n",
    "        return \"Territory ID: \"+str(self.tid)+\", color: \"+str(self.color)+\", heuristic: \"+str(self.heuristic)+\", armies: \"+str(self.armies)"
   ]
  },
  {
   "cell_type": "code",
   "execution_count": null,
   "metadata": {},
   "outputs": [],
   "source": []
  },
  {
   "cell_type": "code",
   "execution_count": 238,
   "metadata": {},
   "outputs": [],
   "source": [
    "class Game:\n",
    "    gameMap=\"\"\n",
    "    territories=[]\n",
    "    state=0\n",
    "    last_change=None\n",
    "    def __init__(self,gameMap=\"Egypt\",territories=[],state=0):\n",
    "        self.gameMap=gameMap\n",
    "        self.territories=self.setTerritories(gameMap)\n",
    "        self.state=state\n",
    "        \n",
    "    def setTerritories(self,gameMap=\"Egypt\"):\n",
    "        if gameMap==\"Egypt\":\n",
    "            territories=[None,\n",
    "                         Territory(tid=1,adjacentTerritories=[4,14],color=0,heuristic=0,armies=0),\n",
    "                         Territory(2,[22,17,27],color=0,heuristic=0,armies=0),\n",
    "                         Territory(3,[17,22,24,15],color=0,heuristic=0,armies=0),\n",
    "                         Territory(4,[1,11,14,13,10,16],color=0,heuristic=0,armies=0),\n",
    "                         Territory(5,[9,15,11,22,6],color=0,heuristic=0,armies=0),\n",
    "                         Territory(6,[5,26,20,23,22],color=0,heuristic=0,armies=0),\n",
    "                         Territory(7,[8,10,16,20,23],color=0,heuristic=0,armies=0),\n",
    "                         Territory(8,[13,7,10],color=0,heuristic=0,armies=0),\n",
    "                         Territory(9,[5,11],color=0,heuristic=0,armies=0),\n",
    "                         Territory(10,[13,4,16,7,8],color=0,heuristic=0,armies=0),\n",
    "                         Territory(11,[15,5,9,6,20,16,4,14,17],color=0,heuristic=0,armies=0),\n",
    "                         Territory(12,[23,26,6,18,19],color=0,heuristic=0,armies=0),\n",
    "                         Territory(13,[10,8,4],color=0,heuristic=0,armies=0),\n",
    "                         Territory(14,[11,1,4,17],color=0,heuristic=0,armies=0),\n",
    "                         Territory(15,[11,5,17,3,22],color=0,heuristic=0,armies=0),\n",
    "                         Territory(16,[4,20,10,11],color=0,heuristic=0,armies=0),\n",
    "                         Territory(17,[11,14,15,3,24,21,27,2],color=0,heuristic=0,armies=0),\n",
    "                         Territory(18,[25,12,26,19],color=0,heuristic=0,armies=0),\n",
    "                         Territory(19,[12,18,23],color=0,heuristic=0,armies=0),\n",
    "                         Territory(20,[23,16,7,11,6],color=0,heuristic=0,armies=0),\n",
    "                         Territory(21,[24,27,17,22],color=0,heuristic=0,armies=0),\n",
    "                         Territory(22,[2,27,21,24,3,15,5,6,26,25],color=0,heuristic=0,armies=0),\n",
    "                         Territory(23,[12,26,6,20,16,7],color=0,heuristic=0,armies=0),\n",
    "                         Territory(24,[17,22,3,21],color=0,heuristic=0,armies=0),\n",
    "                         Territory(25,[18,22,26],color=0,heuristic=0,armies=0),\n",
    "                         Territory(26,[25,18,12,6,22,23],color=0,heuristic=0,armies=0),\n",
    "                         Territory(27,[21,2,22,17],color=0,heuristic=0,armies=0),\n",
    "                        ]\n",
    "            return territories\n",
    "    def startGame(self):    \n",
    "        for turn in range(40):\n",
    "            if turn%2==0:\n",
    "                flag=True\n",
    "                while(flag): \n",
    "                    i=random.randrange(1,27)\n",
    "                    if(self.territories[i].color!=-1):\n",
    "                        self.territories[i].color=1\n",
    "                        self.territories[i].armies+=1\n",
    "                        flag=False\n",
    "            else:\n",
    "                flag=True\n",
    "                while(flag): \n",
    "                    i=random.randrange(1,27)\n",
    "                    if(self.territories[i].color!=1):\n",
    "                        self.territories[i].color=-1\n",
    "                        self.territories[i].armies+=1\n",
    "                        flag=False\n",
    "        self.construct_territory_graph()\n",
    "                    \n",
    "                    \n",
    "    def construct_territory_graph(self):\n",
    "        for ter in self.territories:\n",
    "            if(ter==None):\n",
    "                continue\n",
    "            for adj in ter.adjacent_territories_indices:\n",
    "                ter.adjacent_territories_obj.append(self.territories[adj])\n",
    "                \n",
    "            "
   ]
  },
  {
   "cell_type": "code",
   "execution_count": 242,
   "metadata": {},
   "outputs": [],
   "source": [
    "class Agent:\n",
    "    game_state=None\n",
    "    color=0\n",
    "    owned_territories=[]\n",
    "    def __init__(self,color,game_state):\n",
    "        self.color=color\n",
    "        self.game_state=game_state\n",
    "        self.owned_territories=[]\n",
    "        for i in game_state.territories:\n",
    "            if(i!=None):    \n",
    "                if i.color == self.color:\n",
    "                    self.owned_territories.append(i)\n",
    "              \n",
    "\n",
    "    def action():\n",
    "        pass\n",
    "    def get_new_state(self):\n",
    "        if self.game_state.last_change != None:\n",
    "            if(self.game_state.last_change in self.owned_territories):\n",
    "                self.owned_territories.remove(self.game_state.last_change)\n",
    "    def place_new_armies(self):\n",
    "        pass"
   ]
  },
  {
   "cell_type": "code",
   "execution_count": 243,
   "metadata": {},
   "outputs": [],
   "source": [
    "class Agressive(Agent):\n",
    "    def get_crowdest_territory(self):\n",
    "        current_territory=self.owned_territories[0]\n",
    "        m=current_territory.armies\n",
    "        for i in self.owned_territories:\n",
    "            if i.armies>m:\n",
    "                m=i.armies\n",
    "                current_territory=i\n",
    "        return current_territory\n",
    "    \n",
    "    def __str__(self):\n",
    "        return \"Agressive Agent with color: \"+str(self.color)+\", number of owned territories: \"+str(len(self.owned_territories))\n",
    "    \n",
    "    def place_new_armies(self):\n",
    "        new_armies=max(3,int((len(self.owned_territories)/3)))\n",
    "        max_territory=self.get_crowdest_territory()\n",
    "        max_territory.armies+=new_armies  \n",
    "    def action(self):\n",
    "        self.get_new_state()\n",
    "        self.place_new_armies()\n",
    "        for i in self.owned_territories:\n",
    "            for k in i.adjacent_territories_obj:\n",
    "                if k.color== self.color:      \n",
    "                    continue\n",
    "                if k.armies<i.armies:\n",
    "                    print(str(i)+\" attacked \"+str(k))\n",
    "                    k.color=self.color\n",
    "                    k.armies=i.armies-k.armies\n",
    "                    i.armies=1\n",
    "                    self.game_state.territories[k.tid]=k\n",
    "                    self.game_state.last_change=k\n",
    "                    i=self.owned_territories[-1]\n",
    "                    self.owned_territories.append(k)\n",
    "                    \n",
    "                    return;\n",
    "        \n",
    "        self.game_state.last_change=None"
   ]
  },
  {
   "cell_type": "code",
   "execution_count": 252,
   "metadata": {},
   "outputs": [],
   "source": [
    "class Passive(Agent):\n",
    "    def get_least_territory(self):\n",
    "        current_territory=self.owned_territories[0]\n",
    "        m=current_territory.armies\n",
    "        for i in self.owned_territories:\n",
    "            if i.armies<m:\n",
    "                m=i.armies\n",
    "                current_territory=i\n",
    "        return current_territory\n",
    "    def __str__(self):\n",
    "        return \"Passive Agent with color: \"+str(self.color)+\", number of owned territories: \"+str(len(self.owned_territories))\n",
    "    \n",
    "    def action(self):\n",
    "        self.get_new_state()\n",
    "        self.place_new_armies()\n",
    "    \n",
    "    def place_new_armies(self):\n",
    "        new_armies=max(3,int((len(self.owned_territories)/3)))\n",
    "        min_territory=self.get_least_territory()\n",
    "        min_territory.armies+=new_armies  \n",
    "        self.game_state.last_change=None\n",
    "   "
   ]
  },
  {
   "cell_type": "code",
   "execution_count": 276,
   "metadata": {},
   "outputs": [],
   "source": [
    "class Pacifist(Passive):\n",
    "    def __str__(self):\n",
    "        return \"Pacifist Agent with color: \"+str(self.color)+\", number of owned territories: \"+str(len(self.owned_territories))\n",
    "    \n",
    "    def action(self):\n",
    "        self.get_new_state()\n",
    "        self.place_new_armies()\n",
    "        minimum_enemy_armies=10000\n",
    "        minimum_enemy_territory=None\n",
    "        for i in self.owned_territories:    \n",
    "            for k in i.adjacent_territories_obj: \n",
    "                if k.color== self.color:      \n",
    "                    continue\n",
    "                if k.armies<i.armies:\n",
    "                    if minimum_enemy_armies>k.armies:\n",
    "                        ally_territory=i\n",
    "                        minimum_enemy_armies=k.armies\n",
    "                        minimum_enemy_territory=k\n",
    "        \n",
    "        if minimum_enemy_territory!=None:\n",
    "            print(str(ally_territory)+\" attacked \"+str(minimum_enemy_territory))\n",
    "            minimum_enemy_territory.color=self.color\n",
    "            minimum_enemy_territory.armies=1\n",
    "            ally_territory.armies=ally_territory.armies-minimum_enemy_armies\n",
    "            self.game_state.territories[minimum_enemy_territory.tid]=minimum_enemy_territory\n",
    "            self.game_state.last_change=minimum_enemy_territory\n",
    "            self.owned_territories.append(minimum_enemy_territory)\n",
    "        else:\n",
    "            self.game_state.last_change=None"
   ]
  },
  {
   "cell_type": "code",
   "execution_count": 239,
   "metadata": {},
   "outputs": [],
   "source": [
    "game=Game(\"Egypt\")"
   ]
  },
  {
   "cell_type": "code",
   "execution_count": 240,
   "metadata": {},
   "outputs": [],
   "source": [
    "game.startGame()"
   ]
  },
  {
   "cell_type": "code",
   "execution_count": 241,
   "metadata": {},
   "outputs": [
    {
     "name": "stdout",
     "output_type": "stream",
     "text": [
      "40\n"
     ]
    }
   ],
   "source": [
    "armies=0\n",
    "for i in game.territories[1:]:\n",
    "    armies+=i.armies\n",
    "print(armies)"
   ]
  },
  {
   "cell_type": "code",
   "execution_count": 277,
   "metadata": {},
   "outputs": [
    {
     "name": "stdout",
     "output_type": "stream",
     "text": [
      "Pacifist Agent with color: 1, number of owned territories: 11\n"
     ]
    }
   ],
   "source": [
    "x=Pacifist(color=1,game_state=game)\n",
    "print(x)"
   ]
  },
  {
   "cell_type": "code",
   "execution_count": 278,
   "metadata": {},
   "outputs": [
    {
     "name": "stdout",
     "output_type": "stream",
     "text": [
      "3\n",
      "4\n",
      "3\n",
      "3\n",
      "2\n",
      "4\n",
      "2\n",
      "2\n",
      "4\n",
      "4\n",
      "1\n",
      "11\n"
     ]
    }
   ],
   "source": [
    "k=0\n",
    "for i in x.owned_territories:\n",
    "    \n",
    "    k+=1\n",
    "    print(i.armies)\n",
    "print(k)"
   ]
  },
  {
   "cell_type": "code",
   "execution_count": 279,
   "metadata": {},
   "outputs": [
    {
     "name": "stdout",
     "output_type": "stream",
     "text": [
      "Agressive Agent with color: -1, number of owned territories: 11\n"
     ]
    }
   ],
   "source": [
    "y=Agressive(color=-1,game_state=game)\n",
    "print(y)"
   ]
  },
  {
   "cell_type": "code",
   "execution_count": 280,
   "metadata": {},
   "outputs": [
    {
     "name": "stdout",
     "output_type": "stream",
     "text": [
      "Territory ID: 4, color: 1, heuristic: 0, armies: 3 attacked Territory ID: 10, color: 0, heuristic: 0, armies: 0\n",
      "10\n"
     ]
    }
   ],
   "source": [
    "x.action()\n",
    "if game.last_change:\n",
    "    print(game.last_change.tid)"
   ]
  },
  {
   "cell_type": "code",
   "execution_count": 285,
   "metadata": {},
   "outputs": [
    {
     "name": "stdout",
     "output_type": "stream",
     "text": [
      "Territory ID: 12, color: 1, heuristic: 0, armies: 3\n"
     ]
    }
   ],
   "source": [
    "print(x.owned_territories[3])"
   ]
  },
  {
   "cell_type": "code",
   "execution_count": 259,
   "metadata": {},
   "outputs": [
    {
     "name": "stdout",
     "output_type": "stream",
     "text": [
      "Territory ID: 1, color: -1, heuristic: 0, armies: 1 attacked Territory ID: 27, color: 0, heuristic: 0, armies: 0\n"
     ]
    }
   ],
   "source": [
    "y.action()"
   ]
  },
  {
   "cell_type": "code",
   "execution_count": 260,
   "metadata": {},
   "outputs": [
    {
     "name": "stdout",
     "output_type": "stream",
     "text": [
      "Agressive Agent with color: -1, number of owned territories: 11\n"
     ]
    }
   ],
   "source": [
    "print(y)"
   ]
  },
  {
   "cell_type": "code",
   "execution_count": 123,
   "metadata": {},
   "outputs": [],
   "source": [
    "x.action()"
   ]
  },
  {
   "cell_type": "code",
   "execution_count": 124,
   "metadata": {},
   "outputs": [
    {
     "name": "stdout",
     "output_type": "stream",
     "text": [
      "Agressive Agent with color: 1, number of owned territories: 18\n"
     ]
    }
   ],
   "source": [
    "print(x)"
   ]
  },
  {
   "cell_type": "code",
   "execution_count": 125,
   "metadata": {},
   "outputs": [],
   "source": [
    "y.action()"
   ]
  },
  {
   "cell_type": "code",
   "execution_count": 126,
   "metadata": {},
   "outputs": [
    {
     "name": "stdout",
     "output_type": "stream",
     "text": [
      "Agressive Agent with color: -1, number of owned territories: 7\n"
     ]
    }
   ],
   "source": [
    "print(y)"
   ]
  },
  {
   "cell_type": "code",
   "execution_count": 127,
   "metadata": {},
   "outputs": [],
   "source": [
    "y.action()"
   ]
  },
  {
   "cell_type": "code",
   "execution_count": 128,
   "metadata": {},
   "outputs": [
    {
     "name": "stdout",
     "output_type": "stream",
     "text": [
      "Agressive Agent with color: -1, number of owned territories: 7\n"
     ]
    }
   ],
   "source": [
    "print(y)"
   ]
  },
  {
   "cell_type": "code",
   "execution_count": 129,
   "metadata": {},
   "outputs": [],
   "source": [
    "y.action()"
   ]
  },
  {
   "cell_type": "code",
   "execution_count": 130,
   "metadata": {},
   "outputs": [
    {
     "name": "stdout",
     "output_type": "stream",
     "text": [
      "Agressive Agent with color: -1, number of owned territories: 7\n"
     ]
    }
   ],
   "source": [
    "print(y)"
   ]
  },
  {
   "cell_type": "code",
   "execution_count": 143,
   "metadata": {},
   "outputs": [],
   "source": [
    "x.action()"
   ]
  },
  {
   "cell_type": "code",
   "execution_count": 144,
   "metadata": {},
   "outputs": [
    {
     "name": "stdout",
     "output_type": "stream",
     "text": [
      "Agressive Agent with color: 1, number of owned territories: 15\n"
     ]
    }
   ],
   "source": [
    "print(x)"
   ]
  },
  {
   "cell_type": "code",
   "execution_count": 145,
   "metadata": {},
   "outputs": [
    {
     "name": "stdout",
     "output_type": "stream",
     "text": [
      "Agressive Agent with color: -1, number of owned territories: 7\n"
     ]
    }
   ],
   "source": [
    "print(y)"
   ]
  },
  {
   "cell_type": "code",
   "execution_count": 146,
   "metadata": {},
   "outputs": [],
   "source": [
    "y.action()"
   ]
  },
  {
   "cell_type": "code",
   "execution_count": 147,
   "metadata": {},
   "outputs": [
    {
     "name": "stdout",
     "output_type": "stream",
     "text": [
      "Agressive Agent with color: -1, number of owned territories: 6\n"
     ]
    }
   ],
   "source": [
    "print(y)"
   ]
  },
  {
   "cell_type": "code",
   "execution_count": null,
   "metadata": {},
   "outputs": [],
   "source": []
  }
 ],
 "metadata": {
  "kernelspec": {
   "display_name": "Python 3",
   "language": "python",
   "name": "python3"
  },
  "language_info": {
   "codemirror_mode": {
    "name": "ipython",
    "version": 3
   },
   "file_extension": ".py",
   "mimetype": "text/x-python",
   "name": "python",
   "nbconvert_exporter": "python",
   "pygments_lexer": "ipython3",
   "version": "3.8.3"
  }
 },
 "nbformat": 4,
 "nbformat_minor": 4
}
